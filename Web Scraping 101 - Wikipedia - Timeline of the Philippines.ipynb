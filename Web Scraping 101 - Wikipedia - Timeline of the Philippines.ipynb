{
 "cells": [
  {
   "cell_type": "code",
   "execution_count": 3,
   "metadata": {},
   "outputs": [],
   "source": [
    "import requests\n",
    "from bs4 import BeautifulSoup\n",
    "import pandas as pd"
   ]
  },
  {
   "cell_type": "code",
   "execution_count": 4,
   "metadata": {},
   "outputs": [],
   "source": [
    "website_url = requests.get(\"https://en.wikipedia.org/wiki/Timeline_of_Philippine_history\",headers={\"User-Agent\": \"Mozilla/5.0 (X11; Linux x86_64)\"}).text"
   ]
  },
  {
   "cell_type": "code",
   "execution_count": 5,
   "metadata": {},
   "outputs": [],
   "source": [
    "soup = BeautifulSoup(website_url, \"lxml\")"
   ]
  },
  {
   "cell_type": "code",
   "execution_count": 6,
   "metadata": {
    "scrolled": true
   },
   "outputs": [
    {
     "data": {
      "text/plain": [
       "72"
      ]
     },
     "metadata": {},
     "output_type": "display_data"
    },
    {
     "data": {
      "text/plain": [
       "['Pre-historic',\n",
       " '11th centuries BCE',\n",
       " '9th–10th centuries BCE',\n",
       " '1st century BCE',\n",
       " '1st century CE',\n",
       " '2nd–3rd century',\n",
       " '4th century onwards',\n",
       " '7th century',\n",
       " '8th century',\n",
       " '10th century',\n",
       " '11th century',\n",
       " '12th century',\n",
       " '13th century',\n",
       " '14th century',\n",
       " '15th century',\n",
       " '16th century',\n",
       " '1500s',\n",
       " '1520s',\n",
       " '1530s',\n",
       " '1540s',\n",
       " '1560s',\n",
       " '1570s',\n",
       " '1580s',\n",
       " '1590s',\n",
       " '17th century',\n",
       " '1600s',\n",
       " '1610s',\n",
       " '1620s',\n",
       " '1630s',\n",
       " '1640s',\n",
       " '1650s',\n",
       " '1660s',\n",
       " '1670s',\n",
       " '1680s',\n",
       " '1690s',\n",
       " '18th century',\n",
       " '1700s',\n",
       " '1710s',\n",
       " '1720s',\n",
       " '1730s',\n",
       " '1740s',\n",
       " '1750s',\n",
       " '1760s',\n",
       " '1770s',\n",
       " '1780s',\n",
       " '1790s',\n",
       " '19th century',\n",
       " '1800s',\n",
       " '1810s',\n",
       " '1820s',\n",
       " '1830s',\n",
       " '1840s',\n",
       " '1850s',\n",
       " '1860s',\n",
       " '1870s',\n",
       " '1880s',\n",
       " '1890s',\n",
       " '20th century',\n",
       " '1900s',\n",
       " '1910s',\n",
       " '1920s',\n",
       " '1930s',\n",
       " '1940s',\n",
       " '1950s',\n",
       " '1960s',\n",
       " '1970s',\n",
       " '1980s',\n",
       " '1990s',\n",
       " '21st century',\n",
       " '2000s',\n",
       " '2010s',\n",
       " '2020s']"
      ]
     },
     "metadata": {},
     "output_type": "display_data"
    }
   ],
   "source": [
    "headlines = soup.findAll('span', class_='mw-headline')\n",
    "headers = []\n",
    "for h in headlines:\n",
    "    headers.append(h.get_text())\n",
    "    \n",
    "timeline = headers[1:-4]\n",
    "display(len(timeline))\n",
    "display(timeline)"
   ]
  },
  {
   "cell_type": "code",
   "execution_count": 7,
   "metadata": {},
   "outputs": [],
   "source": [
    "my_table = soup.findAll('table', class_='wikitable')"
   ]
  },
  {
   "cell_type": "code",
   "execution_count": 28,
   "metadata": {},
   "outputs": [],
   "source": [
    "timeline_dict = {}\n",
    "\n",
    "my_table = soup.findAll('table', class_='wikitable')\n",
    "for table in my_table:\n",
    "    df = pd.read_html(str(table))[0]\n",
    "    new_df = df.iloc[:,[0,2]]\n",
    "    for index, row in new_df.iterrows():\n",
    "        key = str(row[0])\n",
    "        if key in timeline_dict.keys():\n",
    "            timeline_dict[key] = timeline_dict[key] + \" \" + str(row[1])\n",
    "        else:\n",
    "            timeline_dict[key] = str(row[1])"
   ]
  },
  {
   "cell_type": "code",
   "execution_count": 34,
   "metadata": {},
   "outputs": [],
   "source": [
    "try: \n",
    "    myfile = open('ph_history_timeline.txt', 'wt') \n",
    "    myfile.write(str(timeline_dict)) \n",
    "    myfile.close() \n",
    "except: \n",
    "    print(\"Unable to write to file\")"
   ]
  },
  {
   "cell_type": "code",
   "execution_count": null,
   "metadata": {},
   "outputs": [],
   "source": [
    "# Export Timeline Dictionary to txt file"
   ]
  }
 ],
 "metadata": {
  "kernelspec": {
   "display_name": "Python 3",
   "language": "python",
   "name": "python3"
  },
  "language_info": {
   "codemirror_mode": {
    "name": "ipython",
    "version": 3
   },
   "file_extension": ".py",
   "mimetype": "text/x-python",
   "name": "python",
   "nbconvert_exporter": "python",
   "pygments_lexer": "ipython3",
   "version": "3.8.3"
  }
 },
 "nbformat": 4,
 "nbformat_minor": 4
}
