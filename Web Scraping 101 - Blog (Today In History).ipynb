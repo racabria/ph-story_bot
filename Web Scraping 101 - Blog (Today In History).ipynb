{
 "cells": [
  {
   "cell_type": "code",
   "execution_count": 10,
   "metadata": {},
   "outputs": [],
   "source": [
    "import requests\n",
    "from bs4 import BeautifulSoup\n",
    "import pandas as pd\n",
    "import datetime\n",
    "import unicodedata"
   ]
  },
  {
   "cell_type": "code",
   "execution_count": 42,
   "metadata": {},
   "outputs": [
    {
     "name": "stdout",
     "output_type": "stream",
     "text": [
      "[('01', 'january'), ('02', 'february'), ('03', 'march'), ('04', 'april'), ('05', 'may'), ('06', 'june'), ('07', 'july'), ('08', 'august'), ('09', 'september'), ('10', 'october'), ('11', 'november'), ('12', 'december')]\n",
      "[1, 2, 3, 4, 5, 6, 7, 8, 9, 10, 11, 12, 13, 14, 15, 16, 17, 18, 19, 20, 21, 22, 23, 24, 25, 26, 27, 28, 29, 30, 31]\n"
     ]
    }
   ],
   "source": [
    "months_choices = []\n",
    "for i in range(1,13):\n",
    "    months_choices.append((str(i).zfill(2), datetime.date(2011, i, 1).strftime('%B').lower()))\n",
    "days = list(range(1,32))\n",
    "print(months_choices)\n",
    "print(days)"
   ]
  },
  {
   "cell_type": "code",
   "execution_count": 43,
   "metadata": {},
   "outputs": [],
   "source": [
    "history_today = {}\n",
    "for m in months_choices:\n",
    "    for d in days:\n",
    "        website_url = requests.get('http://philippines-islands-lemuria.blogspot.com/2011/'+ m[0] + '/' + str(d) + '-' + m[1] + '.html',headers={\"User-Agent\": \"Mozilla/5.0 (X11; Linux x86_64)\"}).text\n",
    "        soup = BeautifulSoup(website_url, \"lxml\")\n",
    "        key = str(m[0]) + '-' + str(d)\n",
    "        history_today[key] = ''\n",
    "        if soup:\n",
    "            try:\n",
    "                div = soup.find('div', {'class' : 'post-body entry-content'} ).find('b').get_text().strip()\n",
    "                text = unicodedata.normalize('NFKD', div)\n",
    "                history_today[key] = text.replace('\\n', '')\n",
    "            except:\n",
    "                continue"
   ]
  },
  {
   "cell_type": "code",
   "execution_count": 44,
   "metadata": {},
   "outputs": [],
   "source": [
    "try: \n",
    "    geeky_file = open('today_in_history.txt', 'wt') \n",
    "    geeky_file.write(str(history_today)) \n",
    "    geeky_file.close() \n",
    "except: \n",
    "    print(\"Unable to write to file\")"
   ]
  },
  {
   "cell_type": "code",
   "execution_count": null,
   "metadata": {},
   "outputs": [],
   "source": [
    "# Export Dictionary to a txt file"
   ]
  }
 ],
 "metadata": {
  "kernelspec": {
   "display_name": "Python 3",
   "language": "python",
   "name": "python3"
  },
  "language_info": {
   "codemirror_mode": {
    "name": "ipython",
    "version": 3
   },
   "file_extension": ".py",
   "mimetype": "text/x-python",
   "name": "python",
   "nbconvert_exporter": "python",
   "pygments_lexer": "ipython3",
   "version": "3.8.3"
  }
 },
 "nbformat": 4,
 "nbformat_minor": 4
}
